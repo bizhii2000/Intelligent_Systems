{
  "nbformat": 4,
  "nbformat_minor": 0,
  "metadata": {
    "colab": {
      "provenance": []
    },
    "kernelspec": {
      "name": "python3",
      "display_name": "Python 3"
    },
    "language_info": {
      "name": "python"
    }
  },
  "cells": [
    {
      "cell_type": "code",
      "execution_count": 31,
      "metadata": {
        "id": "mAjb9tYCPnEb"
      },
      "outputs": [],
      "source": [
        "import numpy as np\n",
        "import matplotlib.pyplot as plt"
      ]
    },
    {
      "cell_type": "code",
      "source": [
        "#@title NB codes\n",
        "import random\n",
        "\n",
        "DATA_WIDTH=28\n",
        "DATA_HEIGHT=28\n",
        "NUMBER_OF_TRAINING_EXAMPLES=5000\n",
        "NUMBER_OF_VALIDATION_EXAMPLES=1000\n",
        "\n",
        "ALL_TRAINING_IMAGES=[]\n",
        "ALL_TRAINING_LABELS=[]\n",
        "ALL_VALIDATION_IMAGES=[]\n",
        "ALL_VALIDATION_LABELS=[]\n",
        "\n",
        "'''\n",
        "Convert ASC-II pixel into numerical data and vice versa\n",
        "    - ' ' is converted to ..., which means it's part of the background\n",
        "    - '#' is converted to ..., part of the image interior\n",
        "    - '+' is converted to ..., part of the edges\n",
        "    \n",
        "'''\n",
        "\n",
        "def _pixel_to_value(character):\n",
        "    if(character == ' '):\n",
        "        return 0\n",
        "    elif(character == '#'):\n",
        "        return 1\n",
        "    elif(character == '+'):\n",
        "        return 2  \n",
        "    \n",
        "def _value_to_pixel(value):\n",
        "    if(value == 0):\n",
        "        return ' '\n",
        "    elif(value == 1):\n",
        "        return '#'\n",
        "    elif(value == 2):\n",
        "        return '+'\n",
        "'''\n",
        "Function for loading data and label files\n",
        "'''\n",
        "\n",
        "def _load_data_file(filename, n, width, height):\n",
        "    fin = [l[:-1] for l in open(filename).readlines()]\n",
        "    fin.reverse()\n",
        "    items = []\n",
        "    for i in range(n):\n",
        "        data = []\n",
        "        for j in range(height):\n",
        "            row = map(_pixel_to_value, list(fin.pop()))\n",
        "            data.append(row)\n",
        "        items.append(data)\n",
        "    return items\n",
        "        \n",
        "def _load_label_file(filename, n):\n",
        "    fin = [l[:-1] for l in open(filename).readlines()]\n",
        "    labels = []\n",
        "    for i in range(n):\n",
        "        labels.append(int(fin[i]))\n",
        "    return labels\n",
        "\n",
        "def _load_all_data():\n",
        "    global ALL_TRAINING_IMAGES\n",
        "    global ALL_TRAINING_LABELS\n",
        "    global ALL_VALIDATION_IMAGES\n",
        "    global ALL_VALIDATION_LABELS\n",
        "\n",
        "    ALL_TRAINING_IMAGES = _load_data_file(\"trainingimages\",\n",
        "        NUMBER_OF_TRAINING_EXAMPLES, DATA_WIDTH, DATA_HEIGHT)\n",
        "    ALL_TRAINING_LABELS = _load_label_file(\"traininglabels\",\n",
        "        NUMBER_OF_TRAINING_EXAMPLES)\n",
        "\n",
        "    ALL_VALIDATION_IMAGES = _load_data_file(\"validationimages\",\n",
        "        NUMBER_OF_VALIDATION_EXAMPLES, DATA_WIDTH, DATA_HEIGHT)\n",
        "    ALL_VALIDATION_LABELS = _load_label_file(\"validationlabels\",\n",
        "        NUMBER_OF_VALIDATION_EXAMPLES)\n",
        "\n",
        "'''\n",
        "Function for printing digits\n",
        "'''\n",
        "\n",
        "def _print_digit_image(data):\n",
        "    for row in range(len(data)):\n",
        "        print(''.join(map(_value_to_pixel, data[row])))\n",
        "    \n",
        "#%% [code]\n",
        "'''\n",
        "Extract 'basic' features, i.e., whether a pixel is in the background or part of the digit\n",
        "'''\n",
        "\n",
        "'''\n",
        "Extract advanced features that you will come up with. For example: \n",
        "**Note that it's not mandatory to use the features listed above.\n",
        "'''\n",
        "\n",
        "    # Calculate the width and height of the digit\n",
        "    # Calculate the number of #s and +s in the top half ( or in any other part)\n",
        "    # Define a rowlimit and investigate if the amount of #s/+s surpasses the limit\n",
        "    \n",
        "\n",
        "\n"
      ],
      "metadata": {
        "colab": {
          "base_uri": "https://localhost:8080/",
          "height": 52
        },
        "id": "kugVIZksTG4P",
        "outputId": "ab48019e-cb3e-4db6-8ebe-aa4b462843e6"
      },
      "execution_count": 32,
      "outputs": [
        {
          "output_type": "execute_result",
          "data": {
            "text/plain": [
              "\"\\nExtract advanced features that you will come up with. For example: \\n**Note that it's not mandatory to use the features listed above.\\n\""
            ],
            "application/vnd.google.colaboratory.intrinsic+json": {
              "type": "string"
            }
          },
          "metadata": {},
          "execution_count": 32
        }
      ]
    },
    {
      "cell_type": "code",
      "source": [
        "_load_all_data()"
      ],
      "metadata": {
        "id": "xEisPvmFTLes"
      },
      "execution_count": 33,
      "outputs": []
    },
    {
      "cell_type": "code",
      "source": [
        "example_number = random.randint(0, NUMBER_OF_TRAINING_EXAMPLES)\n",
        "print(\"Printing digit example #\" + str(example_number + 1) + \" with label: \" \\\n",
        "        + str(ALL_TRAINING_LABELS[example_number]))\n",
        "_print_digit_image(ALL_TRAINING_IMAGES[example_number])"
      ],
      "metadata": {
        "colab": {
          "base_uri": "https://localhost:8080/"
        },
        "id": "CBtpWVka2H8w",
        "outputId": "fa29f983-d757-4aeb-cf25-2bc2f7626523"
      },
      "execution_count": 59,
      "outputs": [
        {
          "output_type": "stream",
          "name": "stdout",
          "text": [
            "Printing digit example #4516 with label: 5\n",
            "                            \n",
            "                            \n",
            "                            \n",
            "                            \n",
            "                            \n",
            "                      ++    \n",
            "                  +++####   \n",
            "            +++++########   \n",
            "          +############++   \n",
            "        ++#########++++     \n",
            "       +#### +++++          \n",
            "       +####                \n",
            "       +#####++             \n",
            "       +#######+            \n",
            "        +++#####+           \n",
            "           +++###+          \n",
            "              +###+         \n",
            "     +#+       +###+        \n",
            "     ###+       +###        \n",
            "     +####+      ###        \n",
            "      +####++    ###        \n",
            "       +#####++++###        \n",
            "         +##########        \n",
            "          ++# #####+        \n",
            "             +++++          \n",
            "                            \n",
            "                            \n",
            "                            \n"
          ]
        }
      ]
    },
    {
      "cell_type": "code",
      "source": [
        "x_train = []\n",
        "for img in ALL_TRAINING_IMAGES:\n",
        "  element = []\n",
        "  for row in img:\n",
        "    element.append(list(row))\n",
        "  x_train.append(element)\n",
        "x_train = np.array(x_train)\n",
        "\n",
        "x_test = []\n",
        "for img in ALL_VALIDATION_IMAGES:\n",
        "  element = []\n",
        "  for row in img:\n",
        "    element.append(list(row))\n",
        "  x_test.append(element)\n",
        "x_test = np.array(x_test)\n",
        "\n",
        "y_train = ALL_TRAINING_LABELS\n",
        "y_test = ALL_VALIDATION_LABELS"
      ],
      "metadata": {
        "id": "-lXk-CGYvAQi"
      },
      "execution_count": 34,
      "outputs": []
    },
    {
      "cell_type": "code",
      "source": [
        "#@title functions for extracting the features\n",
        "def calculate_height(image):\n",
        "  h1, h2 = 0, 0\n",
        "  f = 0\n",
        "  for row in range(len(image)):\n",
        "    if sum(image[row]) > 0 and f == 0:\n",
        "      h1 = row\n",
        "      f = 1\n",
        "    if sum(image[row]) == 0 and f == 1:\n",
        "      h2 = row\n",
        "      break\n",
        "  return (h2 - h1)\n",
        "\n",
        "def count_hashtags(image):\n",
        "  count = 0\n",
        "  for row in range(len(image)):\n",
        "    count += np.sum((np.array(image[row])==1).astype(int))\n",
        "  return count\n",
        "\n",
        "def count_plus(image):\n",
        "  count = 0\n",
        "  for row in range(len(image)):\n",
        "    count += np.sum((np.array(image[row])==2).astype(int))\n",
        "  return count\n",
        "\n",
        "def first_row(image):\n",
        "  f = 0\n",
        "  count = 0\n",
        "  for row in range(len(image)):\n",
        "    if sum(image[row]) > 0 and f == 0:\n",
        "      count = sum(image[row])\n",
        "      break \n",
        "  return count\n"
      ],
      "metadata": {
        "id": "x4c-JEZTzG3y"
      },
      "execution_count": 50,
      "outputs": []
    },
    {
      "cell_type": "code",
      "source": [
        "def extract_features(images):\n",
        "  features = [[],[],[],[]]\n",
        "  for image in images:\n",
        "    features[0].append(calculate_height(image))\n",
        "    features[1].append(count_hashtags(image))\n",
        "    features[2].append(count_plus(image))\n",
        "    features[3].append(first_row(image))\n",
        "  return features\n",
        "\n",
        "def each_class_data():\n",
        "  classes = [[], [], [], [], [], [], [], [], [], []]\n",
        "  for i in range(len(x_train)):\n",
        "    classes[y_train[i]].append(x_train[i])\n",
        "  return classes\n",
        "\n",
        "def calculate_mean_var(classes):\n",
        "  parameters = []\n",
        "  for each_class_images in classes:\n",
        "    p = []\n",
        "    features = extract_features(each_class_images)\n",
        "    for i in range(4):\n",
        "      p.append([np.mean(features[i]), np.var(features[i])])\n",
        "    parameters.append(p)\n",
        "  return parameters\n",
        "\n",
        "def calculate_x(x_test):\n",
        "  x_total = []\n",
        "  for test_images in x_test:\n",
        "    x_total.append([calculate_height(test_images), count_hashtags(test_images), count_plus(test_images),first_row(test_images)])\n",
        "  return x_total\n",
        "\n",
        "def gaussian(mean, var, x):\n",
        "  return np.exp(-0.5*((x-mean)**2)/var)/(var**0.5)\n",
        "\n",
        "def calculate_prior_prob(y_train):\n",
        "  p = np.zeros(10)\n",
        "  for i in range(10):\n",
        "    p[i] = np.sum((np.array(y_train) == i).astype(int)) / len(y_train)\n",
        "  return p\n",
        "\n",
        "def accuracy(parameters, x_test, y_test,y_train):\n",
        "  x_test = calculate_x(x_test)\n",
        "  prior_prob = calculate_prior_prob(y_train)\n",
        "  y_predict = []\n",
        "  for i in range(len(x_test)):\n",
        "    prob = []\n",
        "    for j in range(len(parameters)):\n",
        "      p1 = gaussian(parameters[j][0][0], parameters[j][0][1], x_test[i][0])\n",
        "      p2 = gaussian(parameters[j][1][0], parameters[j][1][1], x_test[i][1])\n",
        "      p3 = gaussian(parameters[j][2][0], parameters[j][2][1], x_test[i][2])\n",
        "      p4 = gaussian(parameters[j][3][0], parameters[j][3][1], x_test[i][3])\n",
        "      prob.append(prior_prob[j]*p1*p2*p3*p4)\n",
        "    label = prob.index(max(prob))\n",
        "    y_predict.append(label)\n",
        "  true = 0\n",
        "  for i in range(len(y_test)):\n",
        "    if y_test[i] == y_predict[i]:\n",
        "      true += 1 \n",
        "  print('accuracy:', true/len(y_test)) "
      ],
      "metadata": {
        "id": "zDKgYRVH4zwF"
      },
      "execution_count": 51,
      "outputs": []
    },
    {
      "cell_type": "code",
      "source": [
        "classes = each_class_data()\n",
        "parameters = calculate_mean_var(classes)\n",
        "accuracy(parameters, x_test, y_test,y_train)"
      ],
      "metadata": {
        "colab": {
          "base_uri": "https://localhost:8080/"
        },
        "id": "fz8Q5_cav2GM",
        "outputId": "612130ff-1ec1-402a-8b73-28fe4bd279b9"
      },
      "execution_count": 52,
      "outputs": [
        {
          "output_type": "stream",
          "name": "stdout",
          "text": [
            "accuracy: 0.333\n"
          ]
        }
      ]
    },
    {
      "cell_type": "code",
      "source": [],
      "metadata": {
        "id": "tcR33MquI-RD"
      },
      "execution_count": null,
      "outputs": []
    }
  ]
}