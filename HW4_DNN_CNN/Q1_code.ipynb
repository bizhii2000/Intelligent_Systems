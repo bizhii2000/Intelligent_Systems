{
  "nbformat": 4,
  "nbformat_minor": 0,
  "metadata": {
    "colab": {
      "provenance": []
    },
    "kernelspec": {
      "name": "python3",
      "display_name": "Python 3"
    },
    "language_info": {
      "name": "python"
    }
  },
  "cells": [
    {
      "cell_type": "code",
      "execution_count": null,
      "metadata": {
        "id": "2LssBqOAJrMy"
      },
      "outputs": [],
      "source": [
        "import numpy as np"
      ]
    },
    {
      "cell_type": "code",
      "source": [
        "def RelU(x, derivative=False):\n",
        "    if derivative:\n",
        "        x = np.where(x < 0, 0, x)\n",
        "        x = np.where(x >= 0, 1, x)\n",
        "        return x\n",
        "    return np.maximum(0, x)\n",
        "\n",
        "def Sigmoid(x):\n",
        "  return 1 / (1 + np.exp(-x))\n"
      ],
      "metadata": {
        "id": "JplQ8BQIOzhE"
      },
      "execution_count": null,
      "outputs": []
    },
    {
      "cell_type": "code",
      "source": [
        "learning_rate = 0.1\n",
        "\n",
        "W1 = np.array([[0.17,0.26],[0.37,0.46],[0.57,0.46]])\n",
        "W2 = np.array([[7.15,7.25,7.35],[6.45,6.55,6.65]])\n",
        "W3 = np.array([[42.12,42.22],[42.32,42.42],[42.52,42.62]])\n",
        "W4 = np.array([[1.16],[1.36]])\n",
        "\n",
        "b1 = np.array([[0.71],[0.62]])\n",
        "b2 = np.array([[13.15],[13.25],[13.35]])\n",
        "b3 = np.array([[1.12],[1.22]])\n",
        "b4 = np.array([[-0.74]])\n",
        "\n",
        "X1 = np.array([[7],[6],[7]])\n",
        "Y1 = np.array([[7]])\n",
        "X2 = np.array([[6],[7],[6]])\n",
        "Y2 = np.array([[6]])\n"
      ],
      "metadata": {
        "id": "lsqlNgs_KH-g"
      },
      "execution_count": null,
      "outputs": []
    },
    {
      "cell_type": "code",
      "source": [
        "def forward_prop(W1,b1,W2,b2,W3,b3,W4,b4,X):\n",
        "  A1 = np.matmul(W1,X) + b1\n",
        "  Z = np.tanh(A1)\n",
        "  A2 = np.matmul(W2,Z) + b2\n",
        "  K = Sigmoid(A2)\n",
        "  A3 = np.matmul(W3,K) + b3\n",
        "  P = np.tanh(A3)\n",
        "  A4 = np.matmul(W4,P) + b4\n",
        "  yhat = RelU(A4)\n",
        "  return A1,Z,A2,K,A3,P,A4,yhat\n",
        "\n",
        "def back_prop(W1,B1,W2,B2,W3,B3,W4,B4,X,Y,A1,Z,A2,K,A3,P,A4,yhat,alpha):\n",
        "  # W4, B4\n",
        "  dEdy = yhat - Y\n",
        "  dydA4 = A4 > 0 \n",
        "  B4, W4, dEdA4 = update(B4, W4, dEdy, dydA4, P, alpha)\n",
        "  # W3, B3\n",
        "  dEdP = dE_dal_1(W4 , dEdA4)\n",
        "  dPdA3 = 1 - P**2\n",
        "  B3, W3, dEdA3 = update(B3, W3, dEdP, dPdA3, K, alpha)\n",
        "  # W2, B2\n",
        "  dEdK = dE_dal_1(W3 , dEdA3)\n",
        "  dKdA2 = K * (1-K)\n",
        "  B2, W2, dEdA2 = update(B2, W2, dEdK, dKdA2, Z, alpha)\n",
        "  # W1, B1\n",
        "  dEdZ = dE_dal_1(W2 , dEdA2)\n",
        "  dZdA1 = 1 - Z**2\n",
        "  B1, W1, _ = update(B1, W1, dEdZ, dZdA1, X, alpha)\n",
        "  return W1, B1, W2, B2, W3, B3, W4, B4\n",
        "  \n",
        "def dE_dAl(dE_da, da_dA):\n",
        "  return dE_da * da_dA\n",
        "\n",
        "def dE_dWl(dE_dA, a):\n",
        "  return (dE_dA) @ a.T\n",
        "\n",
        "def dE_dal_1(W , dE_dA):\n",
        "  return W.T @ dE_dA \n",
        "\n",
        "def dE_dBl(dE_dA):\n",
        "  return dE_dA\n",
        "\n",
        "def SD(x, dx, eta):\n",
        "  return x - eta * dx\n",
        "\n",
        "def update(B, W, dE_da, da_dA, a, eta):\n",
        "  dE_dA = dE_dAl(dE_da, da_dA)\n",
        "  dE_dB = dE_dBl(dE_dA)\n",
        "  dE_dW = dE_dWl(dE_dA, a)\n",
        "  B = SD(B, dE_dB, eta)\n",
        "  W = SD(W, dE_dW, eta)\n",
        "  return B, W, dE_dA\n",
        "\n",
        "def transpose(W1,W2,W3,W4):\n",
        "  W1,W2,W3,W4 = W1.T,W2.T,W3.T,W4.T\n",
        "  return W1,W2,W3,W4\n",
        "\n",
        "def printing(W_1,b1,W_2,b2,W_3,b3,W_4,b4):\n",
        "  print(\"W1: \",W_1)\n",
        "  print(\"B1: \",b1)\n",
        "  print(\"W2: \",W_2)\n",
        "  print(\"B2: \",b2)\n",
        "  print(\"W3: \",W_3)\n",
        "  print(\"B3: \",b3)\n",
        "  print(\"W4: \",W_4)\n",
        "  print(\"B4: \",b4)\n"
      ],
      "metadata": {
        "id": "xGr7ZFwcOeut"
      },
      "execution_count": null,
      "outputs": []
    },
    {
      "cell_type": "code",
      "source": [
        "alpha = 0.1\n",
        "W_1,W_2,W_3,W_4 = transpose(W1,W2,W3,W4)\n",
        "print(\"initial values:\")\n",
        "printing(W_1, b1, W_2, b2, W_3, b3, W_4, b4)\n",
        "print(\"#################################\")\n",
        "A1,Z,A2,K,A3,P,A4,yhat = forward_prop(W_1,b1,W_2,b2,W_3,b3,W_4,b4,X1)\n",
        "W_1, B1, W_2, B2, W_3, B3, W_4, B4 = back_prop(W_1,b1,W_2,b2,W_3,b3,W_4,b4,X1,Y1,A1,Z,A2,K,A3,P,A4,yhat,alpha)\n",
        "print(\"first iteration:\")\n",
        "printing(W_1, B1, W_2, B2, W_3, B3, W_4, B4)\n",
        "print(\"#################################\")\n",
        "A1,Z,A2,K,A3,P,A4,yhat = forward_prop(W_1,B1,W_2,B2,W_3,B3,W_4,B4,X2)\n",
        "W_1, B1, W_2, B2, W_3, B3, W_4, B4 = back_prop(W_1,B1,W_2,B2,W_3,B3,W_4,B4,X2,Y2,A1,Z,A2,K,A3,P,A4,yhat,alpha)\n",
        "print(\"second iteration:\")\n",
        "printing(W_1, B1, W_2, B2, W_3, B3, W_4, B4)\n",
        "print(\"#################################\")"
      ],
      "metadata": {
        "colab": {
          "base_uri": "https://localhost:8080/"
        },
        "id": "UFPlEwe5YzTa",
        "outputId": "1d7c354a-e8e0-4b21-f166-e9cadfe8f0ec"
      },
      "execution_count": null,
      "outputs": [
        {
          "output_type": "stream",
          "name": "stdout",
          "text": [
            "initial values:\n",
            "W1:  [[0.17 0.37 0.57]\n",
            " [0.26 0.46 0.46]]\n",
            "B1:  [[0.71]\n",
            " [0.62]]\n",
            "W2:  [[7.15 6.45]\n",
            " [7.25 6.55]\n",
            " [7.35 6.65]]\n",
            "B2:  [[13.15]\n",
            " [13.25]\n",
            " [13.35]]\n",
            "W3:  [[42.12 42.32 42.52]\n",
            " [42.22 42.42 42.62]]\n",
            "B3:  [[1.12]\n",
            " [1.22]]\n",
            "W4:  [[1.16 1.36]]\n",
            "B4:  [[-0.74]]\n",
            "#################################\n",
            "first iteration:\n",
            "W1:  [[0.17 0.37 0.57]\n",
            " [0.26 0.46 0.46]]\n",
            "B1:  [[0.71]\n",
            " [0.62]]\n",
            "W2:  [[7.15 6.45]\n",
            " [7.25 6.55]\n",
            " [7.35 6.65]]\n",
            "B2:  [[13.15]\n",
            " [13.25]\n",
            " [13.35]]\n",
            "W3:  [[42.12 42.32 42.52]\n",
            " [42.22 42.42 42.62]]\n",
            "B3:  [[1.12]\n",
            " [1.22]]\n",
            "W4:  [[1.682 1.882]]\n",
            "B4:  [[-0.218]]\n",
            "#################################\n",
            "second iteration:\n",
            "W1:  [[0.17 0.37 0.57]\n",
            " [0.26 0.46 0.46]]\n",
            "B1:  [[0.71]\n",
            " [0.62]]\n",
            "W2:  [[7.15 6.45]\n",
            " [7.25 6.55]\n",
            " [7.35 6.65]]\n",
            "B2:  [[13.15]\n",
            " [13.25]\n",
            " [13.35]]\n",
            "W3:  [[42.12 42.32 42.52]\n",
            " [42.22 42.42 42.62]]\n",
            "B3:  [[1.12]\n",
            " [1.22]]\n",
            "W4:  [[1.9474 2.1474]]\n",
            "B4:  [[0.0474]]\n",
            "#################################\n"
          ]
        }
      ]
    },
    {
      "cell_type": "code",
      "source": [],
      "metadata": {
        "id": "MEyz5UOjSEs0"
      },
      "execution_count": null,
      "outputs": []
    }
  ]
}