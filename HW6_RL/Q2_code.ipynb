{
  "nbformat": 4,
  "nbformat_minor": 0,
  "metadata": {
    "colab": {
      "provenance": []
    },
    "kernelspec": {
      "name": "python3",
      "display_name": "Python 3"
    },
    "language_info": {
      "name": "python"
    }
  },
  "cells": [
    {
      "cell_type": "code",
      "execution_count": null,
      "metadata": {
        "id": "knUwKIWjT4vO"
      },
      "outputs": [],
      "source": [
        "import numpy as np\n",
        "import matplotlib.pyplot as plt"
      ]
    },
    {
      "cell_type": "code",
      "source": [
        "class Gamblers_Problem():\n",
        "  def __init__(self,Head_Probability,Discount_Factor = 1,theta = 0.000001):\n",
        "    self.Discount_Factor = Discount_Factor\n",
        "    self.theta = theta\n",
        "    self.Head_Probability = Head_Probability\n",
        "\n",
        "    self.S = np.arange(101)\n",
        "    self.Values = np.zeros(101)\n",
        "    self.policy = np.zeros(100)\n",
        "\n",
        "  def available_actions(self,state):\n",
        "    return np.arange(1,min(state,100-state)+1)\n",
        "  \n",
        "  def calculate_reward(self,state,action):\n",
        "    return int(state+action == 100)\n",
        "\n",
        "  def max_value(self,state,values):\n",
        "    action_values = np.zeros(101)\n",
        "    rewards = np.zeros(101)\n",
        "    rewards[100] = 1 \n",
        "    for action in self.available_actions(state):\n",
        "      action_values[action] = self.Head_Probability * (self.calculate_reward(state,action) + self.Discount_Factor * values[state+action]) + (1-self.Head_Probability)*(self.Discount_Factor * values[state-action])\n",
        "    \n",
        "    max_value = np.max(action_values)\n",
        "    argmax_value = np.argmax(action_values)\n",
        "    return max_value,argmax_value\n",
        "\n",
        "  def value_iteration(self):\n",
        "\n",
        "    while(True):\n",
        "      delta = 0\n",
        "      for state in range(1,100):\n",
        "        best_value,_ = self.max_value(state,self.Values)\n",
        "        delta = max(delta,abs(best_value - self.Values[state]))\n",
        "        self.Values[state] = best_value\n",
        "      if(delta<self.theta): break\n",
        "    for state in range(1,100):\n",
        "        _,self.policy[state] = self.max_value(state,self.Values)\n",
        "    "
      ],
      "metadata": {
        "id": "K5Lfl0hfUtH2"
      },
      "execution_count": null,
      "outputs": []
    },
    {
      "cell_type": "markdown",
      "source": [
        "## Ph = 0.55"
      ],
      "metadata": {
        "id": "zPZG6Wk2r_k1"
      }
    },
    {
      "cell_type": "code",
      "source": [
        "g = Gamblers_Problem(0.55)"
      ],
      "metadata": {
        "id": "VkciVrVSXPQ5"
      },
      "execution_count": null,
      "outputs": []
    },
    {
      "cell_type": "code",
      "source": [
        "g.value_iteration()"
      ],
      "metadata": {
        "id": "ukOmQjauop5d"
      },
      "execution_count": null,
      "outputs": []
    },
    {
      "cell_type": "code",
      "source": [
        "print(\"optimal policy for P_h=0.55: \")\n",
        "print(g.policy)"
      ],
      "metadata": {
        "colab": {
          "base_uri": "https://localhost:8080/"
        },
        "id": "qf_kDxM1oyY1",
        "outputId": "43a0dab9-a7f7-4471-e6ca-1b008bfd2c25"
      },
      "execution_count": null,
      "outputs": [
        {
          "output_type": "stream",
          "name": "stdout",
          "text": [
            "optimal policy for P_h=0.55: \n",
            "[0. 1. 1. 1. 1. 1. 1. 1. 1. 1. 1. 1. 1. 1. 1. 1. 1. 1. 1. 1. 1. 1. 1. 1.\n",
            " 1. 1. 1. 1. 1. 1. 1. 1. 1. 1. 1. 1. 1. 1. 1. 1. 1. 1. 1. 1. 1. 1. 1. 1.\n",
            " 1. 1. 1. 1. 1. 1. 1. 1. 1. 1. 1. 1. 1. 1. 1. 1. 1. 1. 1. 1. 1. 1. 1. 1.\n",
            " 1. 1. 1. 1. 1. 1. 1. 1. 1. 1. 1. 1. 1. 1. 1. 1. 1. 1. 1. 1. 1. 1. 1. 1.\n",
            " 1. 1. 1. 1.]\n"
          ]
        }
      ]
    },
    {
      "cell_type": "code",
      "source": [
        "g.Values"
      ],
      "metadata": {
        "colab": {
          "base_uri": "https://localhost:8080/"
        },
        "id": "KfZeO5lmwORg",
        "outputId": "dcb1c1a8-0417-4cdd-93f5-bdb5509e639d"
      },
      "execution_count": null,
      "outputs": [
        {
          "output_type": "execute_result",
          "data": {
            "text/plain": [
              "array([0.        , 0.18179384, 0.33053471, 0.45223242, 0.55180402,\n",
              "       0.63327253, 0.6999295 , 0.75446798, 0.79909135, 0.83560237,\n",
              "       0.86547602, 0.88991908, 0.9099189 , 0.92628333, 0.93967331,\n",
              "       0.95062962, 0.95959471, 0.96693057, 0.9729334 , 0.97784552,\n",
              "       0.98186521, 0.98515468, 0.98784666, 0.99004975, 0.99185281,\n",
              "       0.99332852, 0.99453639, 0.99552506, 0.99633437, 0.9969969 ,\n",
              "       0.99753931, 0.99798341, 0.99834706, 0.99864485, 0.99888875,\n",
              "       0.99908852, 0.99925219, 0.99938628, 0.99949617, 0.99958624,\n",
              "       0.99966008, 0.99972062, 0.99977028, 0.99981103, 0.99984446,\n",
              "       0.99987191, 0.99989445, 0.99991297, 0.99992819, 0.99994071,\n",
              "       0.999951  , 0.99995948, 0.99996646, 0.99997221, 0.99997696,\n",
              "       0.99998087, 0.99998411, 0.99998678, 0.99998899, 0.99999083,\n",
              "       0.99999234, 0.9999936 , 0.99999465, 0.99999552, 0.99999625,\n",
              "       0.99999685, 0.99999735, 0.99999778, 0.99999813, 0.99999842,\n",
              "       0.99999867, 0.99999888, 0.99999905, 0.9999992 , 0.99999933,\n",
              "       0.99999943, 0.99999952, 0.99999959, 0.99999966, 0.99999971,\n",
              "       0.99999976, 0.99999979, 0.99999983, 0.99999986, 0.99999988,\n",
              "       0.9999999 , 0.99999992, 0.99999993, 0.99999994, 0.99999995,\n",
              "       0.99999996, 0.99999997, 0.99999998, 0.99999998, 0.99999999,\n",
              "       0.99999999, 0.99999999, 0.99999999, 1.        , 1.        ,\n",
              "       0.        ])"
            ]
          },
          "metadata": {},
          "execution_count": 7
        }
      ]
    },
    {
      "cell_type": "code",
      "source": [
        "plt.plot(range(100),g.Values[:100])\n",
        "plt.title(\"Value Estimation\")\n",
        "plt.ylabel(\"value\")\n",
        "plt.xlabel(\"capital\")"
      ],
      "metadata": {
        "colab": {
          "base_uri": "https://localhost:8080/",
          "height": 312
        },
        "id": "QiO2Flpds5B0",
        "outputId": "c888f0bc-7031-4518-d61d-80c92616783f"
      },
      "execution_count": null,
      "outputs": [
        {
          "output_type": "execute_result",
          "data": {
            "text/plain": [
              "Text(0.5, 0, 'capital')"
            ]
          },
          "metadata": {},
          "execution_count": 8
        },
        {
          "output_type": "display_data",
          "data": {
            "text/plain": [
              "<Figure size 432x288 with 1 Axes>"
            ],
            "image/png": "[encoded data removed]"
          },
          "metadata": {
            "needs_background": "light"
          }
        }
      ]
    },
    {
      "cell_type": "code",
      "source": [
        "plt.bar(range(100),g.policy,align='center', alpha=1)\n",
        "plt.title(\"optimal policy\")\n",
        "plt.xlabel(\"capital\")\n",
        "plt.ylabel(\"optimal bet\")"
      ],
      "metadata": {
        "colab": {
          "base_uri": "https://localhost:8080/",
          "height": 312
        },
        "id": "T9IvAilhtEEs",
        "outputId": "01c391ea-4e10-4f75-f9d0-da58ce192e54"
      },
      "execution_count": null,
      "outputs": [
        {
          "output_type": "execute_result",
          "data": {
            "text/plain": [
              "Text(0, 0.5, 'optimal bet')"
            ]
          },
          "metadata": {},
          "execution_count": 55
        },
        {
          "output_type": "display_data",
          "data": {
            "text/plain": [
              "<Figure size 432x288 with 1 Axes>"
            ],
            "image/png": "[encoded data removed]"
          },
          "metadata": {
            "needs_background": "light"
          }
        }
      ]
    },
    {
      "cell_type": "markdown",
      "source": [
        "## Ph = 0.25"
      ],
      "metadata": {
        "id": "lQL43cpJtHV9"
      }
    },
    {
      "cell_type": "code",
      "source": [
        "g25 = Gamblers_Problem(0.25)"
      ],
      "metadata": {
        "id": "VHExbFeZtLfh"
      },
      "execution_count": null,
      "outputs": []
    },
    {
      "cell_type": "code",
      "source": [
        "g25.value_iteration()"
      ],
      "metadata": {
        "id": "qfukmf91tXrs"
      },
      "execution_count": null,
      "outputs": []
    },
    {
      "cell_type": "code",
      "source": [
        "print(\"optimal policy for P_h=0.25: \")\n",
        "print(g25.policy)"
      ],
      "metadata": {
        "colab": {
          "base_uri": "https://localhost:8080/"
        },
        "id": "Pik0cp4BtbK1",
        "outputId": "95049070-d729-45e2-d73c-fa86b752bb5d"
      },
      "execution_count": null,
      "outputs": [
        {
          "output_type": "stream",
          "name": "stdout",
          "text": [
            "optimal policy for P_h=0.25: \n",
            "[ 0.  1.  2.  3.  4.  5.  6.  7.  8.  9. 10. 11. 12. 13. 14. 10.  9. 17.\n",
            " 18. 19.  5. 21. 22. 23. 24. 25.  1.  2.  3.  4.  5.  6.  7.  8.  9. 10.\n",
            " 11. 12. 38. 39. 40. 41. 42. 43. 44. 45. 46. 47. 48. 49. 50.  1.  2.  3.\n",
            "  4.  5.  6.  7.  8.  9. 10. 11. 12. 13. 14. 15. 16. 17. 18. 19. 20. 21.\n",
            " 22. 23. 24. 25.  1.  2.  3.  4.  5.  6.  7.  8.  9. 10. 11. 12. 12. 11.\n",
            " 10.  9.  8.  7.  6.  5.  4.  3.  2.  1.]\n"
          ]
        }
      ]
    },
    {
      "cell_type": "code",
      "source": [
        "g25.Values"
      ],
      "metadata": {
        "colab": {
          "base_uri": "https://localhost:8080/"
        },
        "id": "h3WEQQHwtdsI",
        "outputId": "c04d0cbf-4be0-4146-8a17-246c914c3fcd"
      },
      "execution_count": null,
      "outputs": [
        {
          "output_type": "execute_result",
          "data": {
            "text/plain": [
              "array([0.00000000e+00, 7.28459563e-05, 2.91426259e-04, 6.95257448e-04,\n",
              "       1.16577863e-03, 1.77125235e-03, 2.78105366e-03, 4.03661077e-03,\n",
              "       4.66311452e-03, 5.60140889e-03, 7.08500942e-03, 9.04085029e-03,\n",
              "       1.11242325e-02, 1.56796345e-02, 1.61464431e-02, 1.69534393e-02,\n",
              "       1.86524581e-02, 1.98260567e-02, 2.24056377e-02, 2.73847259e-02,\n",
              "       2.83400794e-02, 3.04945425e-02, 3.61635444e-02, 3.84959069e-02,\n",
              "       4.44969302e-02, 6.25000000e-02, 6.27185697e-02, 6.33743340e-02,\n",
              "       6.45857902e-02, 6.59973359e-02, 6.78137571e-02, 7.08431744e-02,\n",
              "       7.46098323e-02, 7.64893436e-02, 7.93042283e-02, 8.37550596e-02,\n",
              "       8.96226583e-02, 9.58726976e-02, 1.09538927e-01, 1.10939343e-01,\n",
              "       1.13360318e-01, 1.18457374e-01, 1.21978171e-01, 1.29716994e-01,\n",
              "       1.44654195e-01, 1.47520238e-01, 1.53983628e-01, 1.70990647e-01,\n",
              "       1.77987721e-01, 1.95990791e-01, 2.50000000e-01, 2.50218570e-01,\n",
              "       2.50874334e-01, 2.52085790e-01, 2.53497336e-01, 2.55313757e-01,\n",
              "       2.58343174e-01, 2.62109832e-01, 2.63989344e-01, 2.66804228e-01,\n",
              "       2.71255060e-01, 2.77122658e-01, 2.83372698e-01, 2.97038927e-01,\n",
              "       2.98439343e-01, 3.00860318e-01, 3.05957374e-01, 3.09478171e-01,\n",
              "       3.17216994e-01, 3.32154195e-01, 3.35020238e-01, 3.41483628e-01,\n",
              "       3.58490647e-01, 3.65487721e-01, 3.83490791e-01, 4.37500000e-01,\n",
              "       4.38155750e-01, 4.40123002e-01, 4.43757381e-01, 4.47992008e-01,\n",
              "       4.53441295e-01, 4.62529523e-01, 4.73829507e-01, 4.79468031e-01,\n",
              "       4.87912745e-01, 5.01265179e-01, 5.18867985e-01, 5.37618093e-01,\n",
              "       5.78616813e-01, 5.82818036e-01, 5.90080971e-01, 6.05372130e-01,\n",
              "       6.15934559e-01, 6.39150989e-01, 6.83962610e-01, 6.92560728e-01,\n",
              "       7.11950919e-01, 7.62971957e-01, 7.83963189e-01, 8.37972392e-01,\n",
              "       0.00000000e+00])"
            ]
          },
          "metadata": {},
          "execution_count": 12
        }
      ]
    },
    {
      "cell_type": "code",
      "source": [
        "plt.plot(range(100),g25.Values[:100])\n",
        "plt.title(\"Value Estimation\")\n",
        "plt.ylabel(\"value\")\n",
        "plt.xlabel(\"capital\")"
      ],
      "metadata": {
        "colab": {
          "base_uri": "https://localhost:8080/",
          "height": 312
        },
        "id": "IEZougVQtioE",
        "outputId": "0ac1df40-e755-4ab2-981d-7e8d14fe1876"
      },
      "execution_count": null,
      "outputs": [
        {
          "output_type": "execute_result",
          "data": {
            "text/plain": [
              "Text(0.5, 0, 'capital')"
            ]
          },
          "metadata": {},
          "execution_count": 13
        },
        {
          "output_type": "display_data",
          "data": {
            "text/plain": [
              "<Figure size 432x288 with 1 Axes>"
            ],
            "image/png": "[encoded data removed]"
          },
          "metadata": {
            "needs_background": "light"
          }
        }
      ]
    },
    {
      "cell_type": "code",
      "source": [
        "plt.bar(range(100),g25.policy,align='center', alpha=1)\n",
        "plt.title(\"optimal policy\")\n",
        "plt.xlabel(\"capital\")\n",
        "plt.ylabel(\"optimal bet\")"
      ],
      "metadata": {
        "colab": {
          "base_uri": "https://localhost:8080/",
          "height": 312
        },
        "id": "ti9Xk3oWtphz",
        "outputId": "dbd20197-8d24-49ca-f2e7-9b32d9242bb3"
      },
      "execution_count": null,
      "outputs": [
        {
          "output_type": "execute_result",
          "data": {
            "text/plain": [
              "Text(0, 0.5, 'optimal bet')"
            ]
          },
          "metadata": {},
          "execution_count": 14
        },
        {
          "output_type": "display_data",
          "data": {
            "text/plain": [
              "<Figure size 432x288 with 1 Axes>"
            ],
            "image/png": "[encoded data removed]"
          },
          "metadata": {
            "needs_background": "light"
          }
        }
      ]
    },
    {
      "cell_type": "code",
      "source": [],
      "metadata": {
        "id": "lHHSrYupYfMJ"
      },
      "execution_count": null,
      "outputs": []
    }
  ]
}