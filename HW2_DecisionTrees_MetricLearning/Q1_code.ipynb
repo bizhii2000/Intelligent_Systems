{
 "cells": [
  {
   "cell_type": "code",
   "execution_count": 1,
   "metadata": {},
   "outputs": [],
   "source": [
    "import numpy as np\n",
    "from collections import Counter\n",
    "import pandas as pd\n",
    "from sklearn.metrics import confusion_matrix\n"
   ]
  },
  {
   "cell_type": "markdown",
   "metadata": {},
   "source": [
    "## Pre-Processing"
   ]
  },
  {
   "cell_type": "code",
   "execution_count": 2,
   "metadata": {},
   "outputs": [],
   "source": [
    "from sklearn import preprocessing\n",
    "encoder = preprocessing.LabelEncoder()\n",
    "# encoder.fit_transform(array)\n",
    "\n",
    "def prepro(data, isTest):\n",
    "    \n",
    "    # Filling empty numerical values with median\n",
    "    data['Age'] = data['Age'].fillna(data['Age'].median())\n",
    "    data['Fare'] = data['Fare'].fillna(data['Fare'].median())\n",
    "    # Filling empty embarked with S\n",
    "    data['Embarked'] = data['Embarked'].fillna('S')\n",
    "    # Replacing categorical sex with integer values (0 for F and 1 for M)\n",
    "    data['Sex'] = encoder.fit_transform(data['Sex'])  \n",
    "    \n",
    "    return data\n",
    "\n",
    "\n",
    "\n"
   ]
  },
  {
   "cell_type": "code",
   "execution_count": 3,
   "metadata": {},
   "outputs": [],
   "source": [
    "dataset = pd.read_csv('titanic-train.csv')\n",
    "#data_ = prepro(dataset,isTest)\n",
    "\n",
    "\n",
    "X_train = dataset.iloc[:800,1:]\n",
    "y_train = dataset.iloc[:800,0].values\n",
    "X_test = dataset.iloc[800:892,1:]\n",
    "y_test = dataset.iloc[800:892,0].values\n",
    "\n",
    "X_test = prepro(X_test, False)\n",
    "X_test = X_test.values\n",
    "X_train = prepro(X_train, True)\n",
    "X_train = X_train.values\n"
   ]
  },
  {
   "cell_type": "markdown",
   "metadata": {},
   "source": [
    "## Implementing the decision tree"
   ]
  },
  {
   "cell_type": "code",
   "execution_count": 18,
   "metadata": {},
   "outputs": [],
   "source": [
    "class Node():\n",
    "    def __init__(self, feature_index=None, threshold=None, left=None, right=None, info_gain=None, value=None):\n",
    "        \n",
    "        # for decision node\n",
    "        self.feature_index = feature_index\n",
    "        self.threshold = threshold\n",
    "        self.left = left\n",
    "        self.right = right\n",
    "        self.info_gain = info_gain\n",
    "        \n",
    "        # for leaf node\n",
    "        self.value = value"
   ]
  },
  {
   "cell_type": "code",
   "execution_count": 54,
   "metadata": {},
   "outputs": [],
   "source": [
    "class DecisionTreeClassifier():\n",
    "    def __init__(self, min_samples_split=2, max_depth=7):\n",
    "        \n",
    "        self.root = None\n",
    "        \n",
    "        self.min_samples_split = min_samples_split\n",
    "        self.max_depth = max_depth\n",
    "        \n",
    "    def build_tree(self,X,y,depth=0):\n",
    "        [number_of_samples,number_of_features] = X.shape\n",
    "        if (number_of_samples > self.min_samples_split and depth <= self.max_depth):\n",
    "            best_split = self.find_best_split(X,y,number_of_features)\n",
    "            if best_split[\"info_gain\"]>0:\n",
    "                # build left\n",
    "                left_subtree = self.build_tree(best_split[\"x_dataset_left\"],best_split[\"y_dataset_left\"],depth+1)\n",
    "                # build right\n",
    "                right_subtree = self.build_tree(best_split[\"x_dataset_right\"],best_split[\"y_dataset_right\"],depth+1)\n",
    "               \n",
    "                return Node(best_split[\"feature_index\"], best_split[\"threshold\"], \n",
    "                            left_subtree, right_subtree, best_split[\"info_gain\"])\n",
    "        \n",
    "        # compute leaf node\n",
    "        leaf_value = self.calculate_leaf_value(y)\n",
    "        \n",
    "        return Node(value=leaf_value)\n",
    "        \n",
    "\n",
    "    def find_best_split(self,X,y,number_of_features):\n",
    "        best_split = {}\n",
    "        max_info_gain = -float(\"inf\")\n",
    "        count = 0\n",
    "        for f_idx in range(number_of_features):\n",
    "            feature_vals = X[:,f_idx]\n",
    "            possible_thresholds = np.unique(feature_vals)\n",
    "            for thr in possible_thresholds:\n",
    "                gain = self.calculate_information_gain(feature_vals,y,thr)\n",
    "                if gain>max_info_gain:\n",
    "                    best_split[\"feature_index\"] = f_idx\n",
    "                    best_split[\"threshold\"] = thr\n",
    "                    left_idxs,right_idxs = self.split(feature_vals,thr)\n",
    "                    best_split[\"y_dataset_left\"],best_split[\"x_dataset_left\"] = y[left_idxs],X[left_idxs,:]\n",
    "                    best_split[\"y_dataset_right\"],best_split[\"x_dataset_right\"] = y[right_idxs],X[right_idxs,:]                    \n",
    "                    best_split[\"info_gain\"] = gain\n",
    "                    max_info_gain = gain                \n",
    "                \n",
    "        return best_split\n",
    "\n",
    "    def calculate_information_gain(self,X,y,thr):\n",
    "        \n",
    "        parent_entropy = self.calculate_entropy(y)\n",
    "        left_idxs,right_idxs = self.split(X,thr)\n",
    "        n = len(y)\n",
    "        n_l, n_r = len(left_idxs), len(right_idxs)\n",
    "        e_l, e_r = self.calculate_entropy(y[left_idxs]), self.calculate_entropy(y[right_idxs])\n",
    "        child_entropy = (n_l/n) * e_l + (n_r/n) * e_r\n",
    "\n",
    "        # calculate the Information Gain\n",
    "        information_gain = parent_entropy - child_entropy\n",
    "        return information_gain\n",
    "\n",
    "\n",
    "    def calculate_entropy(self,y):\n",
    "        hist = np.bincount(y)\n",
    "        ps = hist / len(y)\n",
    "        return -np.sum([p * np.log(p) for p in ps if p>0])\n",
    "\n",
    "\n",
    "    def split(self, X, split_thresh):\n",
    "        left_idxs = np.argwhere(X <= split_thresh).flatten()\n",
    "        right_idxs = np.argwhere(X > split_thresh).flatten()\n",
    "        return left_idxs, right_idxs\n",
    "\n",
    "\n",
    "    def calculate_leaf_value(self, Y):\n",
    "\n",
    "        Y = list(Y)\n",
    "        return max(Y, key=Y.count)\n",
    "\n",
    "\n",
    "    def print_tree(self, tree=None, indent=\" \"):\n",
    "        \n",
    "        if not tree:\n",
    "            tree = self.root\n",
    "\n",
    "        if tree.value is not None:\n",
    "            print(tree.value)\n",
    "\n",
    "        else:\n",
    "            print(\"X_\"+str(tree.feature_index), \"<=\", tree.threshold, \"?\", tree.info_gain)\n",
    "            print(\"%sleft:\" % (indent), end=\"\")\n",
    "            self.print_tree(tree.left, indent + indent)\n",
    "            print(\"%sright:\" % (indent), end=\"\")\n",
    "            self.print_tree(tree.right, indent + indent)\n",
    "\n",
    "\n",
    "    def fit(self,X,y):\n",
    "        self.root = self.build_tree(X,y,0)\n",
    "\n",
    "\n",
    "    def predict(self, X):\n",
    "        \n",
    "        preditions = [self.make_prediction(x, self.root) for x in X]\n",
    "        return preditions\n",
    "    \n",
    "    def make_prediction(self, x, tree):\n",
    "        \n",
    "        if tree.value!=None: return tree.value\n",
    "        feature_val = x[tree.feature_index]\n",
    "        if feature_val<=tree.threshold:\n",
    "            return self.make_prediction(x, tree.left)\n",
    "        else:\n",
    "            return self.make_prediction(x, tree.right)\n",
    "    "
   ]
  },
  {
   "cell_type": "code",
   "execution_count": 55,
   "metadata": {},
   "outputs": [],
   "source": [
    "d = DecisionTreeClassifier()\n",
    "d.fit(X_train,y_train)"
   ]
  },
  {
   "cell_type": "code",
   "execution_count": 56,
   "metadata": {},
   "outputs": [
    {
     "name": "stdout",
     "output_type": "stream",
     "text": [
      "X_2 <= 0 ? 0.1538543158678991\n",
      " left:X_0 <= 2 ? 0.1356548660743529\n",
      "  left:X_6 <= 28.7125 ? 0.012893728904148666\n",
      "    left:X_6 <= 27.75 ? 0.038599819629731025\n",
      "        left:X_3 <= 23.0 ? 0.023445101512177935\n",
      "                left:1\n",
      "                right:X_3 <= 27.0 ? 0.05029145343797148\n",
      "                                left:X_3 <= 24.0 ? 0.1239686396190054\n",
      "                                                                left:X_6 <= 13.0 ? 0.2195121486796562\n",
      "                                                                                                                                left:0\n",
      "                                                                                                                                right:1\n",
      "                                                                right:X_4 <= 0 ? 0.6365141682948128\n",
      "                                                                                                                                left:1\n",
      "                                                                                                                                right:0\n",
      "                                right:X_3 <= 55.0 ? 0.049460629754011554\n",
      "                                                                left:X_3 <= 36.0 ? 0.02686218512991219\n",
      "                                                                                                                                left:1\n",
      "                                                                                                                                right:1\n",
      "                                                                right:1\n",
      "        right:0\n",
      "    right:X_3 <= 2.0 ? 0.04603036933661112\n",
      "        left:0\n",
      "        right:X_5 <= 1 ? 0.02042821533197564\n",
      "                left:1\n",
      "                right:X_3 <= 24.0 ? 0.07812921894857272\n",
      "                                left:1\n",
      "                                right:X_3 <= 25.0 ? 0.5004024235381879\n",
      "                                                                left:0\n",
      "                                                                right:1\n",
      "  right:X_6 <= 24.15 ? 0.06840527842254851\n",
      "    left:X_3 <= 36.0 ? 0.02830093085413643\n",
      "        left:X_6 <= 8.0292 ? 0.022859574334803567\n",
      "                left:X_3 <= 28.0 ? 0.06167062660723688\n",
      "                                left:X_6 <= 6.75 ? 0.034852355186214656\n",
      "                                                                left:0\n",
      "                                                                right:X_6 <= 7.4958 ? 0.03083661801373877\n",
      "                                                                                                                                left:1\n",
      "                                                                                                                                right:1\n",
      "                                right:0\n",
      "                right:X_6 <= 10.4625 ? 0.08367596544846179\n",
      "                                left:X_3 <= 30.0 ? 0.16455134526339094\n",
      "                                                                left:X_3 <= 18.0 ? 0.1713114529628365\n",
      "                                                                                                                                left:0\n",
      "                                                                                                                                right:0\n",
      "                                                                right:1\n",
      "                                right:X_6 <= 13.4167 ? 0.0780424987764643\n",
      "                                                                left:1\n",
      "                                                                right:X_6 <= 14.4583 ? 0.1463173287817633\n",
      "                                                                                                                                left:0\n",
      "                                                                                                                                right:1\n",
      "        right:X_3 <= 47.0 ? 0.410116318288409\n",
      "                left:0\n",
      "                right:1\n",
      "    right:X_6 <= 31.275 ? 0.07488176162235427\n",
      "        left:0\n",
      "        right:X_6 <= 31.3875 ? 0.5004024235381879\n",
      "                left:1\n",
      "                right:0\n",
      " right:X_0 <= 1 ? 0.025107081635270312\n",
      "  left:X_3 <= 52.0 ? 0.030275947801569836\n",
      "    left:X_6 <= 26.0 ? 0.030840930995032823\n",
      "        left:0\n",
      "        right:X_6 <= 26.55 ? 0.05278632563395469\n",
      "                left:X_6 <= 26.3875 ? 0.07567111245376579\n",
      "                                left:1\n",
      "                                right:X_1 <= C ? 0.03884925460670818\n",
      "                                                                left:1\n",
      "                                                                right:X_3 <= 45.0 ? 0.05268601576113208\n",
      "                                                                                                                                left:1\n",
      "                                                                                                                                right:1\n",
      "                right:X_3 <= 17.0 ? 0.040820472486141735\n",
      "                                left:1\n",
      "                                right:X_6 <= 29.7 ? 0.03877144581374725\n",
      "                                                                left:0\n",
      "                                                                right:X_6 <= 30.5 ? 0.04343956897622614\n",
      "                                                                                                                                left:1\n",
      "                                                                                                                                right:0\n",
      "    right:X_3 <= 71.0 ? 0.09811001258211943\n",
      "        left:X_1 <= C ? 0.10026928904567417\n",
      "                left:X_4 <= 0 ? 0.2034833661164504\n",
      "                                left:X_3 <= 56.0 ? 0.21207426669985321\n",
      "                                                                left:0\n",
      "                                                                right:0\n",
      "                                right:1\n",
      "                right:0\n",
      "        right:1\n",
      "  right:X_3 <= 12.0 ? 0.03007034256067964\n",
      "    left:X_4 <= 2 ? 0.42846401123502487\n",
      "        left:X_1 <= C ? 0.15829761474955373\n",
      "                left:1\n",
      "                right:1\n",
      "        right:X_3 <= 3.0 ? 0.07872690245023337\n",
      "                left:X_3 <= 2.0 ? 0.5004024235381879\n",
      "                                left:0\n",
      "                                right:1\n",
      "                right:0\n",
      "    right:X_6 <= 46.9 ? 0.005064331850086645\n",
      "        left:X_1 <= C ? 0.006156533084838378\n",
      "                left:X_3 <= 29.0 ? 0.05319294492506982\n",
      "                                left:X_6 <= 15.05 ? 0.058089270807911486\n",
      "                                                                left:X_3 <= 28.5 ? 0.06471852803921024\n",
      "                                                                                                                                left:0\n",
      "                                                                                                                                right:1\n",
      "                                                                right:X_6 <= 18.7875 ? 0.6829081047004717\n",
      "                                                                                                                                left:1\n",
      "                                                                                                                                right:0\n",
      "                                right:0\n",
      "                right:X_5 <= 0 ? 0.008067500612122691\n",
      "                                left:X_6 <= 7.75 ? 0.0072479595928858775\n",
      "                                                                left:X_3 <= 29.0 ? 0.013487001555099631\n",
      "                                                                                                                                left:0\n",
      "                                                                                                                                right:0\n",
      "                                                                right:X_6 <= 13.0 ? 0.007984472368700923\n",
      "                                                                                                                                left:0\n",
      "                                                                                                                                right:0\n",
      "                                right:0\n",
      "        right:X_6 <= 56.4958 ? 0.4247792991387309\n",
      "                left:X_3 <= 26.0 ? 0.050534307843141224\n",
      "                                left:1\n",
      "                                right:X_3 <= 28.0 ? 0.08494951839769871\n",
      "                                                                left:1\n",
      "                                                                right:1\n",
      "                right:0\n"
     ]
    }
   ],
   "source": [
    "d.print_tree()"
   ]
  },
  {
   "cell_type": "code",
   "execution_count": 57,
   "metadata": {},
   "outputs": [
    {
     "name": "stdout",
     "output_type": "stream",
     "text": [
      "The accuracy for k=7 :  0.8461538461538461\n"
     ]
    }
   ],
   "source": [
    "Y_pred = d.predict(X_test) \n",
    "from sklearn.metrics import accuracy_score\n",
    "print(\"The accuracy for k=7 : \",accuracy_score(y_test, Y_pred))"
   ]
  },
  {
   "cell_type": "code",
   "execution_count": 58,
   "metadata": {},
   "outputs": [
    {
     "name": "stdout",
     "output_type": "stream",
     "text": [
      "The confusion matrix:\n"
     ]
    },
    {
     "data": {
      "text/plain": [
       "array([[50,  7],\n",
       "       [ 7, 27]], dtype=int64)"
      ]
     },
     "execution_count": 58,
     "metadata": {},
     "output_type": "execute_result"
    }
   ],
   "source": [
    "print(\"The confusion matrix:\")\n",
    "confusion_matrix(y_test, Y_pred)"
   ]
  },
  {
   "cell_type": "markdown",
   "metadata": {},
   "source": [
    "## Implementing a random forest"
   ]
  },
  {
   "cell_type": "code",
   "execution_count": 98,
   "metadata": {},
   "outputs": [],
   "source": [
    "class forest():\n",
    "\n",
    "    def __init__(self, n_trees=6, max_depth=5, min_samples_split=2, n_feature=None):\n",
    "        self.n_trees = n_trees\n",
    "        self.max_depth=max_depth\n",
    "        self.min_samples_split=min_samples_split\n",
    "        self.n_features=n_feature\n",
    "        self.trees = []\n",
    "\n",
    "    def fit(self, X, y):\n",
    "        self.trees = []\n",
    "        for _ in range(self.n_trees):\n",
    "            tree = DecisionTreeClassifier(max_depth=self.max_depth,min_samples_split=self.min_samples_split)\n",
    "            X_sample, y_sample = self.random_samples(X, y)\n",
    "            tree.fit(X_sample, y_sample)\n",
    "            self.trees.append(tree)\n",
    "\n",
    "\n",
    "    def random_samples(self, X, y):\n",
    "        n_samples = X.shape[0]\n",
    "        idxs = np.random.choice(n_samples, n_samples, replace=True)\n",
    "        return X[idxs], y[idxs]\n",
    "\n",
    "    def majority_voting(self, y):\n",
    "        counter = Counter(y)\n",
    "        most_common = counter.most_common(1)[0][0]\n",
    "        return most_common\n",
    "\n",
    "    def predict(self, X):\n",
    "        predictions = np.array([tree.predict(X) for tree in self.trees])\n",
    "        tree_preds = np.swapaxes(predictions, 0, 1)\n",
    "        predictions = np.array([self.majority_voting(pred) for pred in tree_preds])\n",
    "        return predictions\n",
    "        "
   ]
  },
  {
   "cell_type": "code",
   "execution_count": 99,
   "metadata": {},
   "outputs": [],
   "source": [
    "f = forest(10,5,2)\n",
    "f.fit(X_train,y_train)\n",
    "y_pred = f.predict(X_test)"
   ]
  },
  {
   "cell_type": "code",
   "execution_count": 100,
   "metadata": {},
   "outputs": [
    {
     "name": "stdout",
     "output_type": "stream",
     "text": [
      "The accuracy for 10 trees with max depth of 5 is:  0.8571428571428571\n"
     ]
    }
   ],
   "source": [
    "from sklearn.metrics import accuracy_score\n",
    "print(\"The accuracy for 10 trees with max depth of 5 is: \",accuracy_score(y_test, y_pred))"
   ]
  },
  {
   "cell_type": "code",
   "execution_count": 101,
   "metadata": {},
   "outputs": [
    {
     "name": "stdout",
     "output_type": "stream",
     "text": [
      "The confusion matrix:\n"
     ]
    },
    {
     "data": {
      "text/plain": [
       "array([[52,  5],\n",
       "       [ 8, 26]], dtype=int64)"
      ]
     },
     "execution_count": 101,
     "metadata": {},
     "output_type": "execute_result"
    }
   ],
   "source": [
    "print(\"The confusion matrix:\")\n",
    "confusion_matrix(y_test, y_pred)"
   ]
  },
  {
   "cell_type": "code",
   "execution_count": null,
   "metadata": {},
   "outputs": [],
   "source": []
  }
 ],
 "metadata": {
  "kernelspec": {
   "display_name": "Python 3.9.12 ('base')",
   "language": "python",
   "name": "python3"
  },
  "language_info": {
   "codemirror_mode": {
    "name": "ipython",
    "version": 3
   },
   "file_extension": ".py",
   "mimetype": "text/x-python",
   "name": "python",
   "nbconvert_exporter": "python",
   "pygments_lexer": "ipython3",
   "version": "3.9.12"
  },
  "orig_nbformat": 4,
  "vscode": {
   "interpreter": {
    "hash": "765d4cba73481f4958d9acb2adbf263113aa55ae087c7b12ddb02de7db88e92d"
   }
  }
 },
 "nbformat": 4,
 "nbformat_minor": 2
}
